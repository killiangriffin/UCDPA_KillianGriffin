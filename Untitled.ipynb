{
 "cells": [
  {
   "cell_type": "code",
   "execution_count": 1,
   "id": "f33d8b1c",
   "metadata": {},
   "outputs": [
    {
     "name": "stdout",
     "output_type": "stream",
     "text": [
      "hello world!\n"
     ]
    }
   ],
   "source": [
    "print('hello world!')"
   ]
  },
  {
   "cell_type": "code",
   "execution_count": 4,
   "id": "01a6bf36",
   "metadata": {},
   "outputs": [
    {
     "name": "stdout",
     "output_type": "stream",
     "text": [
      "<class 'pandas.core.frame.DataFrame'>\n",
      "RangeIndex: 2352 entries, 0 to 2351\n",
      "Data columns (total 5 columns):\n",
      " #   Column           Non-Null Count  Dtype  \n",
      "---  ------           --------------  -----  \n",
      " 0   Statistic Label  2352 non-null   object \n",
      " 1   Quarter          2352 non-null   object \n",
      " 2   Area             2352 non-null   object \n",
      " 3   UNIT             2352 non-null   object \n",
      " 4   VALUE            2268 non-null   float64\n",
      "dtypes: float64(1), object(4)\n",
      "memory usage: 92.0+ KB\n",
      "None\n"
     ]
    }
   ],
   "source": [
    "#importing data\n",
    "import pandas as pd\n",
    "average_price = pd.read_csv(r'C:\\Users\\killi\\Downloads\\HSQ06.20221122T111110.csv')\n",
    "print(average_price.info())"
   ]
  },
  {
   "cell_type": "code",
   "execution_count": 5,
   "id": "887b75e8",
   "metadata": {},
   "outputs": [
    {
     "name": "stdout",
     "output_type": "stream",
     "text": [
      "    Statistic Label Quarter      Area  UNIT    VALUE\n",
      "0  New House Prices  1975Q1  National  Euro  11887.0\n",
      "1  New House Prices  1975Q1    Dublin  Euro  11858.0\n",
      "2  New House Prices  1975Q1      Cork  Euro  10667.0\n",
      "3  New House Prices  1975Q1    Galway  Euro  13519.0\n",
      "4  New House Prices  1975Q1  Limerick  Euro  12565.0\n"
     ]
    }
   ],
   "source": [
    "#inspecting data\n",
    "print(average_price.head())"
   ]
  },
  {
   "cell_type": "code",
   "execution_count": 7,
   "id": "58aa4df8",
   "metadata": {},
   "outputs": [
    {
     "name": "stdout",
     "output_type": "stream",
     "text": [
      "<class 'pandas.core.frame.DataFrame'>\n",
      "RangeIndex: 2352 entries, 0 to 2351\n",
      "Data columns (total 5 columns):\n",
      " #   Column           Non-Null Count  Dtype  \n",
      "---  ------           --------------  -----  \n",
      " 0   Statistic Label  2352 non-null   object \n",
      " 1   Quarter          2352 non-null   object \n",
      " 2   Area             2352 non-null   object \n",
      " 3   UNIT             2352 non-null   object \n",
      " 4   VALUE            2268 non-null   float64\n",
      "dtypes: float64(1), object(4)\n",
      "memory usage: 92.0+ KB\n"
     ]
    },
    {
     "data": {
      "text/html": [
       "<div>\n",
       "<style scoped>\n",
       "    .dataframe tbody tr th:only-of-type {\n",
       "        vertical-align: middle;\n",
       "    }\n",
       "\n",
       "    .dataframe tbody tr th {\n",
       "        vertical-align: top;\n",
       "    }\n",
       "\n",
       "    .dataframe thead th {\n",
       "        text-align: right;\n",
       "    }\n",
       "</style>\n",
       "<table border=\"1\" class=\"dataframe\">\n",
       "  <thead>\n",
       "    <tr style=\"text-align: right;\">\n",
       "      <th></th>\n",
       "      <th>Statistic Label</th>\n",
       "      <th>Quarter</th>\n",
       "      <th>Area</th>\n",
       "      <th>UNIT</th>\n",
       "      <th>VALUE</th>\n",
       "    </tr>\n",
       "  </thead>\n",
       "  <tbody>\n",
       "    <tr>\n",
       "      <th>0</th>\n",
       "      <td>New House Prices</td>\n",
       "      <td>1975Q1</td>\n",
       "      <td>National</td>\n",
       "      <td>Euro</td>\n",
       "      <td>11887.0</td>\n",
       "    </tr>\n",
       "    <tr>\n",
       "      <th>1</th>\n",
       "      <td>New House Prices</td>\n",
       "      <td>1975Q1</td>\n",
       "      <td>Dublin</td>\n",
       "      <td>Euro</td>\n",
       "      <td>11858.0</td>\n",
       "    </tr>\n",
       "    <tr>\n",
       "      <th>2</th>\n",
       "      <td>New House Prices</td>\n",
       "      <td>1975Q1</td>\n",
       "      <td>Cork</td>\n",
       "      <td>Euro</td>\n",
       "      <td>10667.0</td>\n",
       "    </tr>\n",
       "    <tr>\n",
       "      <th>3</th>\n",
       "      <td>New House Prices</td>\n",
       "      <td>1975Q1</td>\n",
       "      <td>Galway</td>\n",
       "      <td>Euro</td>\n",
       "      <td>13519.0</td>\n",
       "    </tr>\n",
       "    <tr>\n",
       "      <th>4</th>\n",
       "      <td>New House Prices</td>\n",
       "      <td>1975Q1</td>\n",
       "      <td>Limerick</td>\n",
       "      <td>Euro</td>\n",
       "      <td>12565.0</td>\n",
       "    </tr>\n",
       "  </tbody>\n",
       "</table>\n",
       "</div>"
      ],
      "text/plain": [
       "    Statistic Label Quarter      Area  UNIT    VALUE\n",
       "0  New House Prices  1975Q1  National  Euro  11887.0\n",
       "1  New House Prices  1975Q1    Dublin  Euro  11858.0\n",
       "2  New House Prices  1975Q1      Cork  Euro  10667.0\n",
       "3  New House Prices  1975Q1    Galway  Euro  13519.0\n",
       "4  New House Prices  1975Q1  Limerick  Euro  12565.0"
      ]
     },
     "execution_count": 7,
     "metadata": {},
     "output_type": "execute_result"
    }
   ],
   "source": [
    "#check for missing data\n",
    "pd.read_csv(r'C:\\Users\\killi\\Downloads\\HSQ06.20221122T111110.csv', na_values='n/a' )\n",
    "average_price.info()\n",
    "average_price.head()"
   ]
  },
  {
   "cell_type": "code",
   "execution_count": 11,
   "id": "dd5d729c",
   "metadata": {},
   "outputs": [
    {
     "ename": "ModuleNotFoundError",
     "evalue": "No module named 'matplotlib.pylot'",
     "output_type": "error",
     "traceback": [
      "\u001b[1;31m---------------------------------------------------------------------------\u001b[0m",
      "\u001b[1;31mModuleNotFoundError\u001b[0m                       Traceback (most recent call last)",
      "\u001b[1;32m~\\AppData\\Local\\Temp\\ipykernel_19160\\2361254271.py\u001b[0m in \u001b[0;36m<module>\u001b[1;34m\u001b[0m\n\u001b[0;32m      1\u001b[0m \u001b[1;31m#importing packages\u001b[0m\u001b[1;33m\u001b[0m\u001b[1;33m\u001b[0m\u001b[0m\n\u001b[0;32m      2\u001b[0m \u001b[1;32mimport\u001b[0m \u001b[0mnumpy\u001b[0m \u001b[1;32mas\u001b[0m \u001b[0mpy\u001b[0m\u001b[1;33m\u001b[0m\u001b[1;33m\u001b[0m\u001b[0m\n\u001b[1;32m----> 3\u001b[1;33m \u001b[1;32mimport\u001b[0m \u001b[0mmatplotlib\u001b[0m\u001b[1;33m.\u001b[0m\u001b[0mpylot\u001b[0m \u001b[1;32mas\u001b[0m \u001b[0mplt\u001b[0m\u001b[1;33m\u001b[0m\u001b[1;33m\u001b[0m\u001b[0m\n\u001b[0m",
      "\u001b[1;31mModuleNotFoundError\u001b[0m: No module named 'matplotlib.pylot'"
     ]
    }
   ],
   "source": [
    "#importing packages\n",
    "import numpy as py\n",
    "import matplotlib.pylot as plt"
   ]
  }
 ],
 "metadata": {
  "kernelspec": {
   "display_name": "Python 3 (ipykernel)",
   "language": "python",
   "name": "python3"
  },
  "language_info": {
   "codemirror_mode": {
    "name": "ipython",
    "version": 3
   },
   "file_extension": ".py",
   "mimetype": "text/x-python",
   "name": "python",
   "nbconvert_exporter": "python",
   "pygments_lexer": "ipython3",
   "version": "3.9.13"
  }
 },
 "nbformat": 4,
 "nbformat_minor": 5
}
