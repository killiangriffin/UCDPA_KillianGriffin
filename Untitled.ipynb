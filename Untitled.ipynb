{
 "cells": [
  {
   "cell_type": "code",
   "execution_count": 1,
   "id": "f33d8b1c",
   "metadata": {},
   "outputs": [
    {
     "name": "stdout",
     "output_type": "stream",
     "text": [
      "hello world!\n"
     ]
    }
   ],
   "source": [
    "print('hello world!')"
   ]
  },
  {
   "cell_type": "code",
   "execution_count": 4,
   "id": "7c8c72f7",
   "metadata": {},
   "outputs": [
    {
     "name": "stdout",
     "output_type": "stream",
     "text": [
      "<class 'pandas.core.frame.DataFrame'>\n",
      "RangeIndex: 2352 entries, 0 to 2351\n",
      "Data columns (total 5 columns):\n",
      " #   Column           Non-Null Count  Dtype  \n",
      "---  ------           --------------  -----  \n",
      " 0   Statistic Label  2352 non-null   object \n",
      " 1   Quarter          2352 non-null   object \n",
      " 2   Area             2352 non-null   object \n",
      " 3   UNIT             2352 non-null   object \n",
      " 4   VALUE            2268 non-null   float64\n",
      "dtypes: float64(1), object(4)\n",
      "memory usage: 92.0+ KB\n",
      "None\n"
     ]
    }
   ],
   "source": [
    "#importing data\n",
    "import pandas as pd\n",
    "average_price = pd.read_csv(r'C:\\Users\\killi\\Downloads\\HSQ06.20221122T111110.csv')\n",
    "print(average_price.info())"
   ]
  },
  {
   "cell_type": "code",
   "execution_count": 5,
   "id": "895700d6",
   "metadata": {},
   "outputs": [
    {
     "name": "stdout",
     "output_type": "stream",
     "text": [
      "    Statistic Label Quarter      Area  UNIT    VALUE\n",
      "0  New House Prices  1975Q1  National  Euro  11887.0\n",
      "1  New House Prices  1975Q1    Dublin  Euro  11858.0\n",
      "2  New House Prices  1975Q1      Cork  Euro  10667.0\n",
      "3  New House Prices  1975Q1    Galway  Euro  13519.0\n",
      "4  New House Prices  1975Q1  Limerick  Euro  12565.0\n"
     ]
    }
   ],
   "source": [
    "#inspecting data\n",
    "print(average_price.head())"
   ]
  }
 ],
 "metadata": {
  "kernelspec": {
   "display_name": "Python 3 (ipykernel)",
   "language": "python",
   "name": "python3"
  },
  "language_info": {
   "codemirror_mode": {
    "name": "ipython",
    "version": 3
   },
   "file_extension": ".py",
   "mimetype": "text/x-python",
   "name": "python",
   "nbconvert_exporter": "python",
   "pygments_lexer": "ipython3",
   "version": "3.9.13"
  }
 },
 "nbformat": 4,
 "nbformat_minor": 5
}
