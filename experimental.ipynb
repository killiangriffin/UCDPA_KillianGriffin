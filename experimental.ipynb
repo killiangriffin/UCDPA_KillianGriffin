{
 "cells": [
  {
   "cell_type": "code",
   "execution_count": 2,
   "id": "8c15dabd",
   "metadata": {},
   "outputs": [
    {
     "name": "stdout",
     "output_type": "stream",
     "text": [
      "hello world!\n"
     ]
    }
   ],
   "source": [
    "print('hello world!')"
   ]
  },
  {
   "cell_type": "code",
   "execution_count": 5,
   "id": "4e9bffe4",
   "metadata": {},
   "outputs": [],
   "source": [
    "#importing packages \n",
    "import numpy as np\n",
    "import pandas as pd"
   ]
  },
  {
   "cell_type": "code",
   "execution_count": 49,
   "id": "d09bd14a",
   "metadata": {},
   "outputs": [],
   "source": [
    "#reading data set\n",
    "df = pd.read_csv(r'C:\\Users\\killi\\Downloads\\HSA06.20221122T131126.csv')"
   ]
  },
  {
   "cell_type": "code",
   "execution_count": 50,
   "id": "eb1a8b66",
   "metadata": {},
   "outputs": [
    {
     "name": "stdout",
     "output_type": "stream",
     "text": [
      "<class 'pandas.core.frame.DataFrame'>\n",
      "RangeIndex: 588 entries, 0 to 587\n",
      "Data columns (total 5 columns):\n",
      " #   Column           Non-Null Count  Dtype  \n",
      "---  ------           --------------  -----  \n",
      " 0   Statistic Label  588 non-null    object \n",
      " 1   Year             588 non-null    int64  \n",
      " 2   Area             588 non-null    object \n",
      " 3   UNIT             588 non-null    object \n",
      " 4   VALUE            583 non-null    float64\n",
      "dtypes: float64(1), int64(1), object(3)\n",
      "memory usage: 23.1+ KB\n",
      "None\n"
     ]
    }
   ],
   "source": [
    "#inspecting data set\n",
    "print(df.info())"
   ]
  },
  {
   "cell_type": "code",
   "execution_count": 51,
   "id": "4c0b439e",
   "metadata": {},
   "outputs": [
    {
     "name": "stdout",
     "output_type": "stream",
     "text": [
      "Statistic Label    0\n",
      "Year               0\n",
      "Area               0\n",
      "UNIT               0\n",
      "VALUE              5\n",
      "dtype: int64\n"
     ]
    }
   ],
   "source": [
    "#counting missing values\n",
    "print(df.isnull().sum())\n"
   ]
  },
  {
   "cell_type": "code",
   "execution_count": 52,
   "id": "6c1c6a18",
   "metadata": {},
   "outputs": [
    {
     "name": "stdout",
     "output_type": "stream",
     "text": [
      "Statistic Label    0\n",
      "Year               0\n",
      "Area               0\n",
      "UNIT               0\n",
      "VALUE              0\n",
      "dtype: int64\n"
     ]
    }
   ],
   "source": [
    "#replace missing values and check\n",
    "print(df.fillna(0).isnull().sum())"
   ]
  },
  {
   "cell_type": "code",
   "execution_count": 53,
   "id": "9f7e6705",
   "metadata": {},
   "outputs": [
    {
     "data": {
      "text/plain": [
       "(588, 5)"
      ]
     },
     "execution_count": 53,
     "metadata": {},
     "output_type": "execute_result"
    }
   ],
   "source": [
    "#checking how many rows and columns are in the dataset\n",
    "df.shape"
   ]
  },
  {
   "cell_type": "code",
   "execution_count": 55,
   "id": "9e22cc74",
   "metadata": {},
   "outputs": [],
   "source": [
    "#create 2 datasets for new price analysis. One for Dublin and the second for National.\n",
    "df_Dub_new = df[(df['Statistic Label'].str.contains(\"New\")) &  (df['Area']==\"Dublin\")].reset_index()\n",
    "df_Nat_new = df[(df['Statistic Label'].str.contains(\"New\")) &  (df['Area']==\"National\")].reset_index()"
   ]
  },
  {
   "cell_type": "code",
   "execution_count": 56,
   "id": "5775d94c",
   "metadata": {},
   "outputs": [
    {
     "data": {
      "text/html": [
       "<div>\n",
       "<style scoped>\n",
       "    .dataframe tbody tr th:only-of-type {\n",
       "        vertical-align: middle;\n",
       "    }\n",
       "\n",
       "    .dataframe tbody tr th {\n",
       "        vertical-align: top;\n",
       "    }\n",
       "\n",
       "    .dataframe thead th {\n",
       "        text-align: right;\n",
       "    }\n",
       "</style>\n",
       "<table border=\"1\" class=\"dataframe\">\n",
       "  <thead>\n",
       "    <tr style=\"text-align: right;\">\n",
       "      <th></th>\n",
       "      <th>index</th>\n",
       "      <th>Statistic Label</th>\n",
       "      <th>Year</th>\n",
       "      <th>Area</th>\n",
       "      <th>UNIT</th>\n",
       "      <th>VALUE</th>\n",
       "    </tr>\n",
       "  </thead>\n",
       "  <tbody>\n",
       "    <tr>\n",
       "      <th>0</th>\n",
       "      <td>1</td>\n",
       "      <td>New House Prices</td>\n",
       "      <td>1975</td>\n",
       "      <td>Dublin</td>\n",
       "      <td>Euro</td>\n",
       "      <td>13137.0</td>\n",
       "    </tr>\n",
       "    <tr>\n",
       "      <th>1</th>\n",
       "      <td>8</td>\n",
       "      <td>New House Prices</td>\n",
       "      <td>1976</td>\n",
       "      <td>Dublin</td>\n",
       "      <td>Euro</td>\n",
       "      <td>15342.0</td>\n",
       "    </tr>\n",
       "    <tr>\n",
       "      <th>2</th>\n",
       "      <td>15</td>\n",
       "      <td>New House Prices</td>\n",
       "      <td>1977</td>\n",
       "      <td>Dublin</td>\n",
       "      <td>Euro</td>\n",
       "      <td>19055.0</td>\n",
       "    </tr>\n",
       "    <tr>\n",
       "      <th>3</th>\n",
       "      <td>22</td>\n",
       "      <td>New House Prices</td>\n",
       "      <td>1978</td>\n",
       "      <td>Dublin</td>\n",
       "      <td>Euro</td>\n",
       "      <td>25745.0</td>\n",
       "    </tr>\n",
       "    <tr>\n",
       "      <th>4</th>\n",
       "      <td>29</td>\n",
       "      <td>New House Prices</td>\n",
       "      <td>1979</td>\n",
       "      <td>Dublin</td>\n",
       "      <td>Euro</td>\n",
       "      <td>32005.0</td>\n",
       "    </tr>\n",
       "  </tbody>\n",
       "</table>\n",
       "</div>"
      ],
      "text/plain": [
       "   index   Statistic Label  Year    Area  UNIT    VALUE\n",
       "0      1  New House Prices  1975  Dublin  Euro  13137.0\n",
       "1      8  New House Prices  1976  Dublin  Euro  15342.0\n",
       "2     15  New House Prices  1977  Dublin  Euro  19055.0\n",
       "3     22  New House Prices  1978  Dublin  Euro  25745.0\n",
       "4     29  New House Prices  1979  Dublin  Euro  32005.0"
      ]
     },
     "execution_count": 56,
     "metadata": {},
     "output_type": "execute_result"
    }
   ],
   "source": [
    "df_Dub_new.head()"
   ]
  },
  {
   "cell_type": "code",
   "execution_count": 57,
   "id": "401f1ce6",
   "metadata": {},
   "outputs": [
    {
     "data": {
      "text/html": [
       "<div>\n",
       "<style scoped>\n",
       "    .dataframe tbody tr th:only-of-type {\n",
       "        vertical-align: middle;\n",
       "    }\n",
       "\n",
       "    .dataframe tbody tr th {\n",
       "        vertical-align: top;\n",
       "    }\n",
       "\n",
       "    .dataframe thead th {\n",
       "        text-align: right;\n",
       "    }\n",
       "</style>\n",
       "<table border=\"1\" class=\"dataframe\">\n",
       "  <thead>\n",
       "    <tr style=\"text-align: right;\">\n",
       "      <th></th>\n",
       "      <th>index</th>\n",
       "      <th>Statistic Label</th>\n",
       "      <th>Year</th>\n",
       "      <th>Area</th>\n",
       "      <th>UNIT</th>\n",
       "      <th>VALUE</th>\n",
       "    </tr>\n",
       "  </thead>\n",
       "  <tbody>\n",
       "    <tr>\n",
       "      <th>0</th>\n",
       "      <td>0</td>\n",
       "      <td>New House Prices</td>\n",
       "      <td>1975</td>\n",
       "      <td>National</td>\n",
       "      <td>Euro</td>\n",
       "      <td>13254.0</td>\n",
       "    </tr>\n",
       "    <tr>\n",
       "      <th>1</th>\n",
       "      <td>7</td>\n",
       "      <td>New House Prices</td>\n",
       "      <td>1976</td>\n",
       "      <td>National</td>\n",
       "      <td>Euro</td>\n",
       "      <td>15564.0</td>\n",
       "    </tr>\n",
       "    <tr>\n",
       "      <th>2</th>\n",
       "      <td>14</td>\n",
       "      <td>New House Prices</td>\n",
       "      <td>1977</td>\n",
       "      <td>National</td>\n",
       "      <td>Euro</td>\n",
       "      <td>18754.0</td>\n",
       "    </tr>\n",
       "    <tr>\n",
       "      <th>3</th>\n",
       "      <td>21</td>\n",
       "      <td>New House Prices</td>\n",
       "      <td>1978</td>\n",
       "      <td>National</td>\n",
       "      <td>Euro</td>\n",
       "      <td>24082.0</td>\n",
       "    </tr>\n",
       "    <tr>\n",
       "      <th>4</th>\n",
       "      <td>28</td>\n",
       "      <td>New House Prices</td>\n",
       "      <td>1979</td>\n",
       "      <td>National</td>\n",
       "      <td>Euro</td>\n",
       "      <td>29387.0</td>\n",
       "    </tr>\n",
       "  </tbody>\n",
       "</table>\n",
       "</div>"
      ],
      "text/plain": [
       "   index   Statistic Label  Year      Area  UNIT    VALUE\n",
       "0      0  New House Prices  1975  National  Euro  13254.0\n",
       "1      7  New House Prices  1976  National  Euro  15564.0\n",
       "2     14  New House Prices  1977  National  Euro  18754.0\n",
       "3     21  New House Prices  1978  National  Euro  24082.0\n",
       "4     28  New House Prices  1979  National  Euro  29387.0"
      ]
     },
     "execution_count": 57,
     "metadata": {},
     "output_type": "execute_result"
    }
   ],
   "source": [
    "df_Nat_new.head()"
   ]
  }
 ],
 "metadata": {
  "kernelspec": {
   "display_name": "Python 3 (ipykernel)",
   "language": "python",
   "name": "python3"
  },
  "language_info": {
   "codemirror_mode": {
    "name": "ipython",
    "version": 3
   },
   "file_extension": ".py",
   "mimetype": "text/x-python",
   "name": "python",
   "nbconvert_exporter": "python",
   "pygments_lexer": "ipython3",
   "version": "3.9.13"
  }
 },
 "nbformat": 4,
 "nbformat_minor": 5
}
