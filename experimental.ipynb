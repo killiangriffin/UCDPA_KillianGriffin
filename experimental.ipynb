{
 "cells": [
  {
   "cell_type": "code",
   "execution_count": 2,
   "id": "750eae7b",
   "metadata": {},
   "outputs": [
    {
     "name": "stdout",
     "output_type": "stream",
     "text": [
      "hello world!\n"
     ]
    }
   ],
   "source": [
    "print('hello world!')"
   ]
  },
  {
   "cell_type": "code",
   "execution_count": 5,
   "id": "39abb9fb",
   "metadata": {},
   "outputs": [],
   "source": [
    "#importing packages \n",
    "import numpy as np\n",
    "import pandas as pd"
   ]
  },
  {
   "cell_type": "code",
   "execution_count": 10,
   "id": "7852ca2d",
   "metadata": {},
   "outputs": [],
   "source": [
    "#reading data set\n",
    "df = pd.read_csv(r'C:\\Users\\killi\\Downloads\\HSA06.20221122T131126.csv')"
   ]
  },
  {
   "cell_type": "code",
   "execution_count": 11,
   "id": "e73b10f1",
   "metadata": {},
   "outputs": [
    {
     "name": "stdout",
     "output_type": "stream",
     "text": [
      "<class 'pandas.core.frame.DataFrame'>\n",
      "RangeIndex: 588 entries, 0 to 587\n",
      "Data columns (total 5 columns):\n",
      " #   Column           Non-Null Count  Dtype  \n",
      "---  ------           --------------  -----  \n",
      " 0   Statistic Label  588 non-null    object \n",
      " 1   Year             588 non-null    int64  \n",
      " 2   Area             588 non-null    object \n",
      " 3   UNIT             588 non-null    object \n",
      " 4   VALUE            583 non-null    float64\n",
      "dtypes: float64(1), int64(1), object(3)\n",
      "memory usage: 23.1+ KB\n",
      "None\n"
     ]
    }
   ],
   "source": [
    "#inspecting data set\n",
    "print(df.info())"
   ]
  },
  {
   "cell_type": "code",
   "execution_count": 12,
   "id": "e6492a69",
   "metadata": {},
   "outputs": [
    {
     "name": "stdout",
     "output_type": "stream",
     "text": [
      "Statistic Label    0\n",
      "Year               0\n",
      "Area               0\n",
      "UNIT               0\n",
      "VALUE              5\n",
      "dtype: int64\n"
     ]
    }
   ],
   "source": [
    "#counting missing values\n",
    "print(df.isnull().sum())\n"
   ]
  },
  {
   "cell_type": "code",
   "execution_count": 18,
   "id": "718ddfa3",
   "metadata": {},
   "outputs": [
    {
     "name": "stdout",
     "output_type": "stream",
     "text": [
      "Statistic Label    0\n",
      "Year               0\n",
      "Area               0\n",
      "UNIT               0\n",
      "VALUE              0\n",
      "dtype: int64\n"
     ]
    }
   ],
   "source": [
    "#replace missing values and check\n",
    "print(df.fillna(0).isnull().sum())"
   ]
  },
  {
   "cell_type": "code",
   "execution_count": null,
   "id": "eb3e8cbb",
   "metadata": {},
   "outputs": [],
   "source": []
  }
 ],
 "metadata": {
  "kernelspec": {
   "display_name": "Python 3 (ipykernel)",
   "language": "python",
   "name": "python3"
  },
  "language_info": {
   "codemirror_mode": {
    "name": "ipython",
    "version": 3
   },
   "file_extension": ".py",
   "mimetype": "text/x-python",
   "name": "python",
   "nbconvert_exporter": "python",
   "pygments_lexer": "ipython3",
   "version": "3.9.13"
  }
 },
 "nbformat": 4,
 "nbformat_minor": 5
}
