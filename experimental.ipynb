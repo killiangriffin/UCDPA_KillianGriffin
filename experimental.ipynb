{
 "cells": [
  {
   "cell_type": "code",
   "execution_count": 2,
   "id": "cc2f44e7",
   "metadata": {},
   "outputs": [
    {
     "name": "stdout",
     "output_type": "stream",
     "text": [
      "hello world!\n"
     ]
    }
   ],
   "source": [
    "print('hello world!')"
   ]
  },
  {
   "cell_type": "code",
   "execution_count": 5,
   "id": "ff91af61",
   "metadata": {},
   "outputs": [],
   "source": [
    "#importing packages \n",
    "import numpy as np\n",
    "import pandas as pd"
   ]
  },
  {
   "cell_type": "code",
   "execution_count": 49,
   "id": "b9a688db",
   "metadata": {},
   "outputs": [],
   "source": [
    "#reading data set\n",
    "df = pd.read_csv(r'C:\\Users\\killi\\Downloads\\HSA06.20221122T131126.csv')"
   ]
  },
  {
   "cell_type": "code",
   "execution_count": 50,
   "id": "9454b486",
   "metadata": {},
   "outputs": [
    {
     "name": "stdout",
     "output_type": "stream",
     "text": [
      "<class 'pandas.core.frame.DataFrame'>\n",
      "RangeIndex: 588 entries, 0 to 587\n",
      "Data columns (total 5 columns):\n",
      " #   Column           Non-Null Count  Dtype  \n",
      "---  ------           --------------  -----  \n",
      " 0   Statistic Label  588 non-null    object \n",
      " 1   Year             588 non-null    int64  \n",
      " 2   Area             588 non-null    object \n",
      " 3   UNIT             588 non-null    object \n",
      " 4   VALUE            583 non-null    float64\n",
      "dtypes: float64(1), int64(1), object(3)\n",
      "memory usage: 23.1+ KB\n",
      "None\n"
     ]
    }
   ],
   "source": [
    "#inspecting data set\n",
    "print(df.info())"
   ]
  },
  {
   "cell_type": "code",
   "execution_count": 51,
   "id": "e4ef4f0b",
   "metadata": {},
   "outputs": [
    {
     "name": "stdout",
     "output_type": "stream",
     "text": [
      "Statistic Label    0\n",
      "Year               0\n",
      "Area               0\n",
      "UNIT               0\n",
      "VALUE              5\n",
      "dtype: int64\n"
     ]
    }
   ],
   "source": [
    "#counting missing values\n",
    "print(df.isnull().sum())\n"
   ]
  },
  {
   "cell_type": "code",
   "execution_count": 52,
   "id": "ac624f7b",
   "metadata": {},
   "outputs": [
    {
     "name": "stdout",
     "output_type": "stream",
     "text": [
      "Statistic Label    0\n",
      "Year               0\n",
      "Area               0\n",
      "UNIT               0\n",
      "VALUE              0\n",
      "dtype: int64\n"
     ]
    }
   ],
   "source": [
    "#replace missing values and check\n",
    "print(df.fillna(0).isnull().sum())"
   ]
  },
  {
   "cell_type": "code",
   "execution_count": 53,
   "id": "015a9e5f",
   "metadata": {},
   "outputs": [
    {
     "data": {
      "text/plain": [
       "(588, 5)"
      ]
     },
     "execution_count": 53,
     "metadata": {},
     "output_type": "execute_result"
    }
   ],
   "source": [
    "#checking how many rows and columns are in the dataset\n",
    "df.shape"
   ]
  },
  {
   "cell_type": "code",
   "execution_count": 55,
   "id": "8616822a",
   "metadata": {},
   "outputs": [],
   "source": [
    "#create 2 datasets for new price analysis. One for Dublin and the second for National.\n",
    "df_Dub_new = df[(df['Statistic Label'].str.contains(\"New\")) &  (df['Area']==\"Dublin\")].reset_index()\n",
    "df_Nat_new = df[(df['Statistic Label'].str.contains(\"New\")) &  (df['Area']==\"National\")].reset_index()"
   ]
  },
  {
   "cell_type": "code",
   "execution_count": 56,
   "id": "80689ac7",
   "metadata": {},
   "outputs": [
    {
     "data": {
      "text/html": [
       "<div>\n",
       "<style scoped>\n",
       "    .dataframe tbody tr th:only-of-type {\n",
       "        vertical-align: middle;\n",
       "    }\n",
       "\n",
       "    .dataframe tbody tr th {\n",
       "        vertical-align: top;\n",
       "    }\n",
       "\n",
       "    .dataframe thead th {\n",
       "        text-align: right;\n",
       "    }\n",
       "</style>\n",
       "<table border=\"1\" class=\"dataframe\">\n",
       "  <thead>\n",
       "    <tr style=\"text-align: right;\">\n",
       "      <th></th>\n",
       "      <th>index</th>\n",
       "      <th>Statistic Label</th>\n",
       "      <th>Year</th>\n",
       "      <th>Area</th>\n",
       "      <th>UNIT</th>\n",
       "      <th>VALUE</th>\n",
       "    </tr>\n",
       "  </thead>\n",
       "  <tbody>\n",
       "    <tr>\n",
       "      <th>0</th>\n",
       "      <td>1</td>\n",
       "      <td>New House Prices</td>\n",
       "      <td>1975</td>\n",
       "      <td>Dublin</td>\n",
       "      <td>Euro</td>\n",
       "      <td>13137.0</td>\n",
       "    </tr>\n",
       "    <tr>\n",
       "      <th>1</th>\n",
       "      <td>8</td>\n",
       "      <td>New House Prices</td>\n",
       "      <td>1976</td>\n",
       "      <td>Dublin</td>\n",
       "      <td>Euro</td>\n",
       "      <td>15342.0</td>\n",
       "    </tr>\n",
       "    <tr>\n",
       "      <th>2</th>\n",
       "      <td>15</td>\n",
       "      <td>New House Prices</td>\n",
       "      <td>1977</td>\n",
       "      <td>Dublin</td>\n",
       "      <td>Euro</td>\n",
       "      <td>19055.0</td>\n",
       "    </tr>\n",
       "    <tr>\n",
       "      <th>3</th>\n",
       "      <td>22</td>\n",
       "      <td>New House Prices</td>\n",
       "      <td>1978</td>\n",
       "      <td>Dublin</td>\n",
       "      <td>Euro</td>\n",
       "      <td>25745.0</td>\n",
       "    </tr>\n",
       "    <tr>\n",
       "      <th>4</th>\n",
       "      <td>29</td>\n",
       "      <td>New House Prices</td>\n",
       "      <td>1979</td>\n",
       "      <td>Dublin</td>\n",
       "      <td>Euro</td>\n",
       "      <td>32005.0</td>\n",
       "    </tr>\n",
       "  </tbody>\n",
       "</table>\n",
       "</div>"
      ],
      "text/plain": [
       "   index   Statistic Label  Year    Area  UNIT    VALUE\n",
       "0      1  New House Prices  1975  Dublin  Euro  13137.0\n",
       "1      8  New House Prices  1976  Dublin  Euro  15342.0\n",
       "2     15  New House Prices  1977  Dublin  Euro  19055.0\n",
       "3     22  New House Prices  1978  Dublin  Euro  25745.0\n",
       "4     29  New House Prices  1979  Dublin  Euro  32005.0"
      ]
     },
     "execution_count": 56,
     "metadata": {},
     "output_type": "execute_result"
    }
   ],
   "source": [
    "df_Dub_new.head()"
   ]
  },
  {
   "cell_type": "code",
   "execution_count": 57,
   "id": "5e9af67a",
   "metadata": {},
   "outputs": [
    {
     "data": {
      "text/html": [
       "<div>\n",
       "<style scoped>\n",
       "    .dataframe tbody tr th:only-of-type {\n",
       "        vertical-align: middle;\n",
       "    }\n",
       "\n",
       "    .dataframe tbody tr th {\n",
       "        vertical-align: top;\n",
       "    }\n",
       "\n",
       "    .dataframe thead th {\n",
       "        text-align: right;\n",
       "    }\n",
       "</style>\n",
       "<table border=\"1\" class=\"dataframe\">\n",
       "  <thead>\n",
       "    <tr style=\"text-align: right;\">\n",
       "      <th></th>\n",
       "      <th>index</th>\n",
       "      <th>Statistic Label</th>\n",
       "      <th>Year</th>\n",
       "      <th>Area</th>\n",
       "      <th>UNIT</th>\n",
       "      <th>VALUE</th>\n",
       "    </tr>\n",
       "  </thead>\n",
       "  <tbody>\n",
       "    <tr>\n",
       "      <th>0</th>\n",
       "      <td>0</td>\n",
       "      <td>New House Prices</td>\n",
       "      <td>1975</td>\n",
       "      <td>National</td>\n",
       "      <td>Euro</td>\n",
       "      <td>13254.0</td>\n",
       "    </tr>\n",
       "    <tr>\n",
       "      <th>1</th>\n",
       "      <td>7</td>\n",
       "      <td>New House Prices</td>\n",
       "      <td>1976</td>\n",
       "      <td>National</td>\n",
       "      <td>Euro</td>\n",
       "      <td>15564.0</td>\n",
       "    </tr>\n",
       "    <tr>\n",
       "      <th>2</th>\n",
       "      <td>14</td>\n",
       "      <td>New House Prices</td>\n",
       "      <td>1977</td>\n",
       "      <td>National</td>\n",
       "      <td>Euro</td>\n",
       "      <td>18754.0</td>\n",
       "    </tr>\n",
       "    <tr>\n",
       "      <th>3</th>\n",
       "      <td>21</td>\n",
       "      <td>New House Prices</td>\n",
       "      <td>1978</td>\n",
       "      <td>National</td>\n",
       "      <td>Euro</td>\n",
       "      <td>24082.0</td>\n",
       "    </tr>\n",
       "    <tr>\n",
       "      <th>4</th>\n",
       "      <td>28</td>\n",
       "      <td>New House Prices</td>\n",
       "      <td>1979</td>\n",
       "      <td>National</td>\n",
       "      <td>Euro</td>\n",
       "      <td>29387.0</td>\n",
       "    </tr>\n",
       "  </tbody>\n",
       "</table>\n",
       "</div>"
      ],
      "text/plain": [
       "   index   Statistic Label  Year      Area  UNIT    VALUE\n",
       "0      0  New House Prices  1975  National  Euro  13254.0\n",
       "1      7  New House Prices  1976  National  Euro  15564.0\n",
       "2     14  New House Prices  1977  National  Euro  18754.0\n",
       "3     21  New House Prices  1978  National  Euro  24082.0\n",
       "4     28  New House Prices  1979  National  Euro  29387.0"
      ]
     },
     "execution_count": 57,
     "metadata": {},
     "output_type": "execute_result"
    }
   ],
   "source": [
    "df_Nat_new.head()"
   ]
  },
  {
   "cell_type": "code",
   "execution_count": 58,
   "id": "7a42bcc4",
   "metadata": {},
   "outputs": [],
   "source": [
    "#import matplotlib to display graphs\n",
    "import matplotlib.pyplot as plt"
   ]
  },
  {
   "cell_type": "code",
   "execution_count": 60,
   "id": "4975dc73",
   "metadata": {},
   "outputs": [
    {
     "data": {
      "image/png": "[encoded data removed]",
      "text/plain": [
       "<Figure size 640x480 with 1 Axes>"
      ]
     },
     "metadata": {},
     "output_type": "display_data"
    }
   ],
   "source": [
    "#plotting price of 2 new datasets\n",
    "plt.plot(df_Dub_new['Year'], df_Dub_new['VALUE'], color='r', label='Dublin New House Prices')\n",
    "plt.plot(df_Nat_new['Year'], df_Nat_new['VALUE'], color='g', label='National New House Prices')\n",
    "\n",
    "\n",
    "plt.xlabel(\"Year\")\n",
    "plt.ylabel(\"House Price\")\n",
    "plt.title(\"New House Prices Dublin and National 1975-2016\")\n",
    "\n",
    "\n",
    "plt.legend()\n",
    "plt.xticks(list(df_Dub_new['Year'].unique()[::2]), rotation=45)\n",
    "plt.show()\n"
   ]
  },
  {
   "cell_type": "code",
   "execution_count": 62,
   "id": "522a4fcc",
   "metadata": {},
   "outputs": [],
   "source": [
    "#create 2 datasets for secondhand price analysis. One for Dublin and the second for National.\n",
    "df_Dub_second = df[(df['Statistic Label'].str.contains(\"Second\")) &  (df['Area']==\"Dublin\")].reset_index()\n",
    "df_Nat_second = df[(df['Statistic Label'].str.contains(\"Second\")) &  (df['Area']==\"National\")].reset_index()"
   ]
  },
  {
   "cell_type": "code",
   "execution_count": 63,
   "id": "a2f293f9",
   "metadata": {},
   "outputs": [
    {
     "data": {
      "text/html": [
       "<div>\n",
       "<style scoped>\n",
       "    .dataframe tbody tr th:only-of-type {\n",
       "        vertical-align: middle;\n",
       "    }\n",
       "\n",
       "    .dataframe tbody tr th {\n",
       "        vertical-align: top;\n",
       "    }\n",
       "\n",
       "    .dataframe thead th {\n",
       "        text-align: right;\n",
       "    }\n",
       "</style>\n",
       "<table border=\"1\" class=\"dataframe\">\n",
       "  <thead>\n",
       "    <tr style=\"text-align: right;\">\n",
       "      <th></th>\n",
       "      <th>index</th>\n",
       "      <th>Statistic Label</th>\n",
       "      <th>Year</th>\n",
       "      <th>Area</th>\n",
       "      <th>UNIT</th>\n",
       "      <th>VALUE</th>\n",
       "    </tr>\n",
       "  </thead>\n",
       "  <tbody>\n",
       "    <tr>\n",
       "      <th>0</th>\n",
       "      <td>295</td>\n",
       "      <td>Second Hand House Prices</td>\n",
       "      <td>1975</td>\n",
       "      <td>Dublin</td>\n",
       "      <td>Euro</td>\n",
       "      <td>12774.0</td>\n",
       "    </tr>\n",
       "    <tr>\n",
       "      <th>1</th>\n",
       "      <td>302</td>\n",
       "      <td>Second Hand House Prices</td>\n",
       "      <td>1976</td>\n",
       "      <td>Dublin</td>\n",
       "      <td>Euro</td>\n",
       "      <td>15850.0</td>\n",
       "    </tr>\n",
       "    <tr>\n",
       "      <th>2</th>\n",
       "      <td>309</td>\n",
       "      <td>Second Hand House Prices</td>\n",
       "      <td>1977</td>\n",
       "      <td>Dublin</td>\n",
       "      <td>Euro</td>\n",
       "      <td>18778.0</td>\n",
       "    </tr>\n",
       "    <tr>\n",
       "      <th>3</th>\n",
       "      <td>316</td>\n",
       "      <td>Second Hand House Prices</td>\n",
       "      <td>1978</td>\n",
       "      <td>Dublin</td>\n",
       "      <td>Euro</td>\n",
       "      <td>22920.0</td>\n",
       "    </tr>\n",
       "    <tr>\n",
       "      <th>4</th>\n",
       "      <td>323</td>\n",
       "      <td>Second Hand House Prices</td>\n",
       "      <td>1979</td>\n",
       "      <td>Dublin</td>\n",
       "      <td>Euro</td>\n",
       "      <td>30092.0</td>\n",
       "    </tr>\n",
       "  </tbody>\n",
       "</table>\n",
       "</div>"
      ],
      "text/plain": [
       "   index           Statistic Label  Year    Area  UNIT    VALUE\n",
       "0    295  Second Hand House Prices  1975  Dublin  Euro  12774.0\n",
       "1    302  Second Hand House Prices  1976  Dublin  Euro  15850.0\n",
       "2    309  Second Hand House Prices  1977  Dublin  Euro  18778.0\n",
       "3    316  Second Hand House Prices  1978  Dublin  Euro  22920.0\n",
       "4    323  Second Hand House Prices  1979  Dublin  Euro  30092.0"
      ]
     },
     "execution_count": 63,
     "metadata": {},
     "output_type": "execute_result"
    }
   ],
   "source": [
    "df_Dub_second.head()"
   ]
  },
  {
   "cell_type": "code",
   "execution_count": 64,
   "id": "c2cc4088",
   "metadata": {},
   "outputs": [
    {
     "data": {
      "text/html": [
       "<div>\n",
       "<style scoped>\n",
       "    .dataframe tbody tr th:only-of-type {\n",
       "        vertical-align: middle;\n",
       "    }\n",
       "\n",
       "    .dataframe tbody tr th {\n",
       "        vertical-align: top;\n",
       "    }\n",
       "\n",
       "    .dataframe thead th {\n",
       "        text-align: right;\n",
       "    }\n",
       "</style>\n",
       "<table border=\"1\" class=\"dataframe\">\n",
       "  <thead>\n",
       "    <tr style=\"text-align: right;\">\n",
       "      <th></th>\n",
       "      <th>index</th>\n",
       "      <th>Statistic Label</th>\n",
       "      <th>Year</th>\n",
       "      <th>Area</th>\n",
       "      <th>UNIT</th>\n",
       "      <th>VALUE</th>\n",
       "    </tr>\n",
       "  </thead>\n",
       "  <tbody>\n",
       "    <tr>\n",
       "      <th>0</th>\n",
       "      <td>294</td>\n",
       "      <td>Second Hand House Prices</td>\n",
       "      <td>1975</td>\n",
       "      <td>National</td>\n",
       "      <td>Euro</td>\n",
       "      <td>12478.0</td>\n",
       "    </tr>\n",
       "    <tr>\n",
       "      <th>1</th>\n",
       "      <td>301</td>\n",
       "      <td>Second Hand House Prices</td>\n",
       "      <td>1976</td>\n",
       "      <td>National</td>\n",
       "      <td>Euro</td>\n",
       "      <td>15303.0</td>\n",
       "    </tr>\n",
       "    <tr>\n",
       "      <th>2</th>\n",
       "      <td>308</td>\n",
       "      <td>Second Hand House Prices</td>\n",
       "      <td>1977</td>\n",
       "      <td>National</td>\n",
       "      <td>Euro</td>\n",
       "      <td>17925.0</td>\n",
       "    </tr>\n",
       "    <tr>\n",
       "      <th>3</th>\n",
       "      <td>315</td>\n",
       "      <td>Second Hand House Prices</td>\n",
       "      <td>1978</td>\n",
       "      <td>National</td>\n",
       "      <td>Euro</td>\n",
       "      <td>21895.0</td>\n",
       "    </tr>\n",
       "    <tr>\n",
       "      <th>4</th>\n",
       "      <td>322</td>\n",
       "      <td>Second Hand House Prices</td>\n",
       "      <td>1979</td>\n",
       "      <td>National</td>\n",
       "      <td>Euro</td>\n",
       "      <td>27598.0</td>\n",
       "    </tr>\n",
       "  </tbody>\n",
       "</table>\n",
       "</div>"
      ],
      "text/plain": [
       "   index           Statistic Label  Year      Area  UNIT    VALUE\n",
       "0    294  Second Hand House Prices  1975  National  Euro  12478.0\n",
       "1    301  Second Hand House Prices  1976  National  Euro  15303.0\n",
       "2    308  Second Hand House Prices  1977  National  Euro  17925.0\n",
       "3    315  Second Hand House Prices  1978  National  Euro  21895.0\n",
       "4    322  Second Hand House Prices  1979  National  Euro  27598.0"
      ]
     },
     "execution_count": 64,
     "metadata": {},
     "output_type": "execute_result"
    }
   ],
   "source": [
    "df_Nat_second.head()"
   ]
  },
  {
   "cell_type": "code",
   "execution_count": 66,
   "id": "00c120d0",
   "metadata": {},
   "outputs": [
    {
     "data": {
      "image/png": "[encoded data removed]",
      "text/plain": [
       "<Figure size 640x480 with 1 Axes>"
      ]
     },
     "metadata": {},
     "output_type": "display_data"
    }
   ],
   "source": [
    "#plotting price of 2 new datasets\n",
    "plt.plot(df_Dub_second['Year'], df_Dub_second['VALUE'], color='r', label='Dublin Secondhand House Prices')\n",
    "plt.plot(df_Nat_second['Year'], df_Nat_second['VALUE'], color='g', label='National Secondhand House Prices')\n",
    "\n",
    "\n",
    "plt.xlabel(\"Year\")\n",
    "plt.ylabel(\"House Price\")\n",
    "plt.title(\"Secondhand House Prices Dublin and National 1975-2016\")\n",
    "plt.xticks(list(df_Dub_second['Year'].unique()[::2]), rotation=45)\n",
    "\n",
    "plt.legend()\n",
    "plt.show()"
   ]
  },
  {
   "cell_type": "code",
   "execution_count": 67,
   "id": "a1715dc0",
   "metadata": {},
   "outputs": [
    {
     "data": {
      "text/plain": [
       "0.9957710223924618"
      ]
     },
     "execution_count": 67,
     "metadata": {},
     "output_type": "execute_result"
    }
   ],
   "source": [
    "# check new house price correlation\n",
    "df_Dub_new['VALUE'].corr(df_Nat_new['VALUE'], method='pearson')"
   ]
  },
  {
   "cell_type": "code",
   "execution_count": 68,
   "id": "06579615",
   "metadata": {},
   "outputs": [
    {
     "data": {
      "text/plain": [
       "0.9989860995914884"
      ]
     },
     "execution_count": 68,
     "metadata": {},
     "output_type": "execute_result"
    }
   ],
   "source": [
    "# check secondhand price correlation\n",
    "df_Dub_second['VALUE'].corr(df_Nat_second['VALUE'], method='pearson')"
   ]
  },
  {
   "cell_type": "code",
   "execution_count": 69,
   "id": "9f1582c3",
   "metadata": {},
   "outputs": [],
   "source": [
    "#The graphs show that new and second hand house prices are strongly correlated.\n",
    "#To measure the actual correlation we can use thePearson correlation measure. \n",
    "#This measures the strength of the linear relationship between two variables"
   ]
  },
  {
   "cell_type": "code",
   "execution_count": 81,
   "id": "4b881bee",
   "metadata": {},
   "outputs": [],
   "source": [
    "#I will examine more data and plot it beside both of these graphs \n",
    "#importing csv file 'House Construction Cost Index'\n",
    "df2 = pd.read_csv(r'C:\\Users\\killi\\Downloads\\HSA09.20221123T171128.csv')"
   ]
  },
  {
   "cell_type": "code",
   "execution_count": 82,
   "id": "0024ec90",
   "metadata": {},
   "outputs": [
    {
     "data": {
      "text/plain": [
       "(42, 5)"
      ]
     },
     "execution_count": 82,
     "metadata": {},
     "output_type": "execute_result"
    }
   ],
   "source": [
    "#look at shape of dataframe 2 ('House Construction Cost Index')\n",
    "df2.shape"
   ]
  },
  {
   "cell_type": "code",
   "execution_count": 83,
   "id": "7aaca142",
   "metadata": {},
   "outputs": [
    {
     "data": {
      "text/html": [
       "<div>\n",
       "<style scoped>\n",
       "    .dataframe tbody tr th:only-of-type {\n",
       "        vertical-align: middle;\n",
       "    }\n",
       "\n",
       "    .dataframe tbody tr th {\n",
       "        vertical-align: top;\n",
       "    }\n",
       "\n",
       "    .dataframe thead th {\n",
       "        text-align: right;\n",
       "    }\n",
       "</style>\n",
       "<table border=\"1\" class=\"dataframe\">\n",
       "  <thead>\n",
       "    <tr style=\"text-align: right;\">\n",
       "      <th></th>\n",
       "      <th>STATISTIC Label</th>\n",
       "      <th>Year</th>\n",
       "      <th>State</th>\n",
       "      <th>UNIT</th>\n",
       "      <th>VALUE</th>\n",
       "    </tr>\n",
       "  </thead>\n",
       "  <tbody>\n",
       "    <tr>\n",
       "      <th>0</th>\n",
       "      <td>House Construction Cost Index</td>\n",
       "      <td>1975</td>\n",
       "      <td>State</td>\n",
       "      <td>Base Jan 1991=100</td>\n",
       "      <td>20.0</td>\n",
       "    </tr>\n",
       "    <tr>\n",
       "      <th>1</th>\n",
       "      <td>House Construction Cost Index</td>\n",
       "      <td>1976</td>\n",
       "      <td>State</td>\n",
       "      <td>Base Jan 1991=100</td>\n",
       "      <td>22.9</td>\n",
       "    </tr>\n",
       "    <tr>\n",
       "      <th>2</th>\n",
       "      <td>House Construction Cost Index</td>\n",
       "      <td>1977</td>\n",
       "      <td>State</td>\n",
       "      <td>Base Jan 1991=100</td>\n",
       "      <td>26.9</td>\n",
       "    </tr>\n",
       "    <tr>\n",
       "      <th>3</th>\n",
       "      <td>House Construction Cost Index</td>\n",
       "      <td>1978</td>\n",
       "      <td>State</td>\n",
       "      <td>Base Jan 1991=100</td>\n",
       "      <td>29.6</td>\n",
       "    </tr>\n",
       "    <tr>\n",
       "      <th>4</th>\n",
       "      <td>House Construction Cost Index</td>\n",
       "      <td>1979</td>\n",
       "      <td>State</td>\n",
       "      <td>Base Jan 1991=100</td>\n",
       "      <td>34.2</td>\n",
       "    </tr>\n",
       "  </tbody>\n",
       "</table>\n",
       "</div>"
      ],
      "text/plain": [
       "                 STATISTIC Label  Year  State               UNIT  VALUE\n",
       "0  House Construction Cost Index  1975  State  Base Jan 1991=100   20.0\n",
       "1  House Construction Cost Index  1976  State  Base Jan 1991=100   22.9\n",
       "2  House Construction Cost Index  1977  State  Base Jan 1991=100   26.9\n",
       "3  House Construction Cost Index  1978  State  Base Jan 1991=100   29.6\n",
       "4  House Construction Cost Index  1979  State  Base Jan 1991=100   34.2"
      ]
     },
     "execution_count": 83,
     "metadata": {},
     "output_type": "execute_result"
    }
   ],
   "source": [
    "df2.head()"
   ]
  },
  {
   "cell_type": "code",
   "execution_count": 78,
   "id": "f962bffe",
   "metadata": {},
   "outputs": [
    {
     "name": "stdout",
     "output_type": "stream",
     "text": [
      "<class 'pandas.core.frame.DataFrame'>\n",
      "RangeIndex: 513 entries, 0 to 512\n",
      "Data columns (total 5 columns):\n",
      " #   Column           Non-Null Count  Dtype  \n",
      "---  ------           --------------  -----  \n",
      " 0   STATISTIC Label  513 non-null    object \n",
      " 1   Month            513 non-null    object \n",
      " 2   State            513 non-null    object \n",
      " 3   UNIT             513 non-null    object \n",
      " 4   VALUE            513 non-null    float64\n",
      "dtypes: float64(1), object(4)\n",
      "memory usage: 20.2+ KB\n"
     ]
    }
   ],
   "source": [
    "df2.info()"
   ]
  },
  {
   "cell_type": "code",
   "execution_count": 86,
   "id": "884e375f",
   "metadata": {},
   "outputs": [
    {
     "data": {
      "image/png": "[encoded data removed]",
      "text/plain": [
       "<Figure size 640x480 with 1 Axes>"
      ]
     },
     "metadata": {},
     "output_type": "display_data"
    }
   ],
   "source": [
    "#plotting this\n",
    "plt.plot(df2['Year'], df2['VALUE'], color='r')\n",
    "plt.xlabel(\"Year\")\n",
    "plt.ylabel(\"Value\")\n",
    "plt.title(\"Constructon Cost Index\")\n",
    "plt.xticks(list(df2['Year'].unique()[::2]), rotation=45)\n",
    "\n",
    "plt.show()"
   ]
  },
  {
   "cell_type": "code",
   "execution_count": null,
   "id": "df5c4073",
   "metadata": {},
   "outputs": [],
   "source": []
  },
  {
   "cell_type": "code",
   "execution_count": 283,
   "id": "de678c55",
   "metadata": {},
   "outputs": [],
   "source": [
    "#going to scrape inflation data from internet\n",
    "import requests\n",
    "import time\n",
    "from bs4 import BeautifulSoup"
   ]
  },
  {
   "cell_type": "code",
   "execution_count": 284,
   "id": "93591418",
   "metadata": {},
   "outputs": [],
   "source": [
    "world_data = 'https://www.worlddata.info/europe/ireland/inflation-rates.php#:~:text=During%20the%20observation%20period%20from,year%20inflation%20rate%20was%208.2%25.'"
   ]
  },
  {
   "cell_type": "code",
   "execution_count": 285,
   "id": "b595908c",
   "metadata": {},
   "outputs": [],
   "source": [
    "page = requests.get(world_data)"
   ]
  },
  {
   "cell_type": "code",
   "execution_count": 286,
   "id": "34615d85",
   "metadata": {},
   "outputs": [],
   "source": [
    "soup = BeautifulSoup(page.text, 'lxml')"
   ]
  },
  {
   "cell_type": "code",
   "execution_count": 109,
   "id": "522a02f9",
   "metadata": {},
   "outputs": [],
   "source": [
    "#i got the html, now I will get the table im looking for"
   ]
  },
  {
   "cell_type": "code",
   "execution_count": 287,
   "id": "43724131",
   "metadata": {},
   "outputs": [],
   "source": [
    "table = soup.find('table', {'class' : \"std100 hover\"})"
   ]
  },
  {
   "cell_type": "code",
   "execution_count": 288,
   "id": "4899c209",
   "metadata": {},
   "outputs": [],
   "source": [
    "headers = []"
   ]
  },
  {
   "cell_type": "code",
   "execution_count": 289,
   "id": "9fface58",
   "metadata": {},
   "outputs": [],
   "source": [
    "for i in table.find_all('th'):\n",
    "    title = i.text.strip()\n",
    "    headers.append(title)\n"
   ]
  },
  {
   "cell_type": "code",
   "execution_count": 290,
   "id": "69eaf3d2",
   "metadata": {},
   "outputs": [],
   "source": [
    "inflation = pd.DataFrame(columns = headers)"
   ]
  },
  {
   "cell_type": "code",
   "execution_count": 291,
   "id": "f5c8d931",
   "metadata": {},
   "outputs": [],
   "source": [
    "for row in table.find_all('tr')[1:]:\n",
    "    data = row.find_all('td')\n",
    "    row_data = [td.text.strip() for td in data]\n",
    "    length = len(inflation)\n",
    "    inflation.loc[length] = row_data\n",
    "    "
   ]
  },
  {
   "cell_type": "code",
   "execution_count": 292,
   "id": "b5039d04",
   "metadata": {},
   "outputs": [
    {
     "name": "stdout",
     "output_type": "stream",
     "text": [
      "    Year  Ireland    Ø EU   Ø USA Ø World\n",
      "0   2021   2.36 %  2.55 %  4.70 %  3.42 %\n",
      "1   2020  -0.33 %  0.50 %  1.23 %  1.92 %\n",
      "2   2019   0.94 %  1.63 %  1.81 %  2.19 %\n",
      "3   2018   0.49 %  1.74 %  2.44 %  2.44 %\n",
      "4   2017   0.34 %  1.43 %  2.13 %  2.19 %\n",
      "..   ...      ...     ...     ...     ...\n",
      "57  1964   6.72 %  3.42 %  1.28 %     n/a\n",
      "58  1963   2.45 %  2.92 %  1.24 %     n/a\n",
      "59  1962   4.26 %  3.55 %  1.20 %     n/a\n",
      "60  1961   2.76 %  2.08 %  1.07 %     n/a\n",
      "61  1960   0.45 %  1.74 %  1.46 %     n/a\n",
      "\n",
      "[62 rows x 5 columns]\n"
     ]
    }
   ],
   "source": [
    "print(inflation)"
   ]
  },
  {
   "cell_type": "code",
   "execution_count": 293,
   "id": "3f9a71e1",
   "metadata": {},
   "outputs": [],
   "source": [
    "inflation['Ireland'] = [x.strip('%') for x in inflation['Ireland']]"
   ]
  },
  {
   "cell_type": "code",
   "execution_count": 295,
   "id": "c4316dab",
   "metadata": {},
   "outputs": [
    {
     "name": "stdout",
     "output_type": "stream",
     "text": [
      "<class 'pandas.core.frame.DataFrame'>\n",
      "Int64Index: 62 entries, 0 to 61\n",
      "Data columns (total 5 columns):\n",
      " #   Column   Non-Null Count  Dtype \n",
      "---  ------   --------------  ----- \n",
      " 0   Year     62 non-null     object\n",
      " 1   Ireland  62 non-null     object\n",
      " 2   Ø EU     62 non-null     object\n",
      " 3   Ø USA    62 non-null     object\n",
      " 4   Ø World  62 non-null     object\n",
      "dtypes: object(5)\n",
      "memory usage: 2.9+ KB\n"
     ]
    }
   ],
   "source": [
    "inflation.info()"
   ]
  },
  {
   "cell_type": "code",
   "execution_count": 294,
   "id": "24646b7a",
   "metadata": {},
   "outputs": [
    {
     "name": "stdout",
     "output_type": "stream",
     "text": [
      "    Year Ireland    Ø EU   Ø USA Ø World\n",
      "0   2021   2.36   2.55 %  4.70 %  3.42 %\n",
      "1   2020  -0.33   0.50 %  1.23 %  1.92 %\n",
      "2   2019   0.94   1.63 %  1.81 %  2.19 %\n",
      "3   2018   0.49   1.74 %  2.44 %  2.44 %\n",
      "4   2017   0.34   1.43 %  2.13 %  2.19 %\n",
      "..   ...     ...     ...     ...     ...\n",
      "57  1964   6.72   3.42 %  1.28 %     n/a\n",
      "58  1963   2.45   2.92 %  1.24 %     n/a\n",
      "59  1962   4.26   3.55 %  1.20 %     n/a\n",
      "60  1961   2.76   2.08 %  1.07 %     n/a\n",
      "61  1960   0.45   1.74 %  1.46 %     n/a\n",
      "\n",
      "[62 rows x 5 columns]\n"
     ]
    }
   ],
   "source": [
    "print(inflation)\n",
    "\n"
   ]
  },
  {
   "cell_type": "code",
   "execution_count": 296,
   "id": "fd6fa497",
   "metadata": {},
   "outputs": [
    {
     "name": "stdout",
     "output_type": "stream",
     "text": [
      "    Year Ireland    Ø EU   Ø USA Ø World\n",
      "61  1960   0.45   1.74 %  1.46 %     n/a\n",
      "60  1961   2.76   2.08 %  1.07 %     n/a\n",
      "59  1962   4.26   3.55 %  1.20 %     n/a\n",
      "58  1963   2.45   2.92 %  1.24 %     n/a\n",
      "57  1964   6.72   3.42 %  1.28 %     n/a\n",
      "..   ...     ...     ...     ...     ...\n",
      "4   2017   0.34   1.43 %  2.13 %  2.19 %\n",
      "3   2018   0.49   1.74 %  2.44 %  2.44 %\n",
      "2   2019   0.94   1.63 %  1.81 %  2.19 %\n",
      "1   2020  -0.33   0.50 %  1.23 %  1.92 %\n",
      "0   2021   2.36   2.55 %  4.70 %  3.42 %\n",
      "\n",
      "[62 rows x 5 columns]\n"
     ]
    }
   ],
   "source": [
    "inflation = inflation[::-1]\n",
    "print(inflation)"
   ]
  },
  {
   "cell_type": "code",
   "execution_count": 298,
   "id": "7bcbd5d7",
   "metadata": {},
   "outputs": [],
   "source": [
    "inflation[\"Ireland\"] = inflation.Ireland.astype(float)\n",
    "inflation[\"Year\"] = inflation.Year.astype(float)"
   ]
  },
  {
   "cell_type": "code",
   "execution_count": 299,
   "id": "5f2428c5",
   "metadata": {},
   "outputs": [
    {
     "name": "stdout",
     "output_type": "stream",
     "text": [
      "<class 'pandas.core.frame.DataFrame'>\n",
      "Int64Index: 62 entries, 61 to 0\n",
      "Data columns (total 5 columns):\n",
      " #   Column   Non-Null Count  Dtype  \n",
      "---  ------   --------------  -----  \n",
      " 0   Year     62 non-null     float64\n",
      " 1   Ireland  62 non-null     float64\n",
      " 2   Ø EU     62 non-null     object \n",
      " 3   Ø USA    62 non-null     object \n",
      " 4   Ø World  62 non-null     object \n",
      "dtypes: float64(2), object(3)\n",
      "memory usage: 2.9+ KB\n"
     ]
    }
   ],
   "source": [
    "inflation.info()"
   ]
  },
  {
   "cell_type": "code",
   "execution_count": 300,
   "id": "a497b453",
   "metadata": {},
   "outputs": [
    {
     "data": {
      "image/png": "[encoded data removed]",
      "text/plain": [
       "<Figure size 640x480 with 1 Axes>"
      ]
     },
     "metadata": {},
     "output_type": "display_data"
    }
   ],
   "source": [
    "plt.plot(inflation['Year'], inflation['Ireland'], color='r', linestyle=\"--\")\n",
    "plt.xlabel(\"Year\")\n",
    "plt.ylabel(\"Value\")\n",
    "plt.title(\"Inflation In Ireland\")\n",
    "plt.xticks(list(inflation['Year'].unique()[::2]), rotation=45)\n",
    "plt.show()"
   ]
  }
 ],
 "metadata": {
  "kernelspec": {
   "display_name": "Python 3 (ipykernel)",
   "language": "python",
   "name": "python3"
  },
  "language_info": {
   "codemirror_mode": {
    "name": "ipython",
    "version": 3
   },
   "file_extension": ".py",
   "mimetype": "text/x-python",
   "name": "python",
   "nbconvert_exporter": "python",
   "pygments_lexer": "ipython3",
   "version": "3.9.13"
  }
 },
 "nbformat": 4,
 "nbformat_minor": 5
}
