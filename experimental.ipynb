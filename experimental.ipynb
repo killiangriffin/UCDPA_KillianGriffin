{
 "cells": [
  {
   "cell_type": "code",
   "execution_count": 2,
   "id": "1d886a59",
   "metadata": {},
   "outputs": [
    {
     "name": "stdout",
     "output_type": "stream",
     "text": [
      "hello world!\n"
     ]
    }
   ],
   "source": [
    "print('hello world!')"
   ]
  },
  {
   "cell_type": "code",
   "execution_count": 5,
   "id": "f05cd0c5",
   "metadata": {},
   "outputs": [],
   "source": [
    "#importing packages \n",
    "import numpy as np\n",
    "import pandas as pd"
   ]
  },
  {
   "cell_type": "code",
   "execution_count": 7,
   "id": "316f4992",
   "metadata": {},
   "outputs": [],
   "source": [
    "#reading data set\n",
    "df = pd.read_csv(r'C:\\Users\\killi\\Downloads\\HSQ06.20221122T111110.csv')"
   ]
  },
  {
   "cell_type": "code",
   "execution_count": 8,
   "id": "1ae6bfe7",
   "metadata": {},
   "outputs": [
    {
     "name": "stdout",
     "output_type": "stream",
     "text": [
      "<class 'pandas.core.frame.DataFrame'>\n",
      "RangeIndex: 2352 entries, 0 to 2351\n",
      "Data columns (total 5 columns):\n",
      " #   Column           Non-Null Count  Dtype  \n",
      "---  ------           --------------  -----  \n",
      " 0   Statistic Label  2352 non-null   object \n",
      " 1   Quarter          2352 non-null   object \n",
      " 2   Area             2352 non-null   object \n",
      " 3   UNIT             2352 non-null   object \n",
      " 4   VALUE            2268 non-null   float64\n",
      "dtypes: float64(1), object(4)\n",
      "memory usage: 92.0+ KB\n",
      "None\n"
     ]
    }
   ],
   "source": [
    "#inspecting data set\n",
    "print(df.info())"
   ]
  }
 ],
 "metadata": {
  "kernelspec": {
   "display_name": "Python 3 (ipykernel)",
   "language": "python",
   "name": "python3"
  },
  "language_info": {
   "codemirror_mode": {
    "name": "ipython",
    "version": 3
   },
   "file_extension": ".py",
   "mimetype": "text/x-python",
   "name": "python",
   "nbconvert_exporter": "python",
   "pygments_lexer": "ipython3",
   "version": "3.9.13"
  }
 },
 "nbformat": 4,
 "nbformat_minor": 5
}
